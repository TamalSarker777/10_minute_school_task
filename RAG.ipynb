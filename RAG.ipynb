{
 "cells": [
  {
   "cell_type": "code",
   "execution_count": 1,
   "id": "54efdcc0",
   "metadata": {},
   "outputs": [],
   "source": [
    "\n",
    "from langchain_openai.embeddings import OpenAIEmbeddings\n",
    "from langgraph.checkpoint.memory import MemorySaver\n",
    "from langgraph.graph import END, START, StateGraph\n",
    "import unicodedata\n",
    "from langchain_core.documents import Document\n",
    "import pytesseract\n",
    "from pdf2image import convert_from_path\n",
    "import unicodedata\n",
    "import re\n",
    "from langchain_core.prompts import ChatPromptTemplate\n",
    "from typing import TypedDict, List\n",
    "from IPython.display import Image\n",
    "from langchain_core.documents import Document\n",
    "from langgraph.graph import START, END, StateGraph\n",
    "from langchain_openai import OpenAIEmbeddings\n",
    "from langchain_core.vectorstores import InMemoryVectorStore\n"
   ]
  },
  {
   "cell_type": "code",
   "execution_count": 31,
   "id": "73a95018",
   "metadata": {},
   "outputs": [
    {
     "data": {
      "text/plain": [
       "True"
      ]
     },
     "execution_count": 31,
     "metadata": {},
     "output_type": "execute_result"
    }
   ],
   "source": [
    "from dotenv import load_dotenv\n",
    "load_dotenv()"
   ]
  },
  {
   "cell_type": "code",
   "execution_count": 3,
   "id": "2aba61ec",
   "metadata": {},
   "outputs": [],
   "source": [
    "from langchain_openai import ChatOpenAI\n",
    "\n",
    "llm = ChatOpenAI(\n",
    "    model=\"gpt-4.1-2025-04-14\",\n",
    "    temperature=0,\n",
    "    max_retries=2,\n",
    "   \n",
    ")"
   ]
  },
  {
   "cell_type": "code",
   "execution_count": 4,
   "id": "d9624972",
   "metadata": {},
   "outputs": [],
   "source": [
    "pdf_path = \"HSC26-Bangla1st-Paper.pdf\"\n",
    "# Set Tesseract and Poppler paths\n",
    "pytesseract.pytesseract.tesseract_cmd = r\"C:/Program Files/Tesseract-OCR/tesseract.exe\"\n",
    "poppler_path = r\"C:/poppler-24.08.0/Library/bin\"\n",
    "\n",
    "# Step 1: Convert PDF pages to images\n",
    "images = convert_from_path(\"HSC26-Bangla1st-Paper.pdf\", poppler_path=poppler_path)\n",
    "\n",
    "# Step 2: Extract and clean text\n",
    "def clean_text(text):\n",
    "    text = unicodedata.normalize(\"NFC\", text)\n",
    "    text = re.sub(r\"(পৃষ্ঠা|Page)\\s*\\d+\", \"\", text)\n",
    "    text = re.sub(r\"\\n+\", \"\\n\", text)\n",
    "    text = re.sub(r\"\\s+\", \" \", text)\n",
    "    return text.strip()\n",
    "\n",
    "docs = []\n",
    "for i, img in enumerate(images):\n",
    "    raw_text = pytesseract.image_to_string(img, lang=\"ben\")\n",
    "    cleaned = clean_text(raw_text)\n",
    "    docs.append(Document(page_content=cleaned, metadata={\"page\": i+1}))\n"
   ]
  },
  {
   "cell_type": "code",
   "execution_count": 5,
   "id": "ec631559",
   "metadata": {},
   "outputs": [
    {
     "name": "stdout",
     "output_type": "stream",
     "text": [
      "Split the pdf into 64 sub-documents.\n"
     ]
    }
   ],
   "source": [
    "from langchain_text_splitters import RecursiveCharacterTextSplitter\n",
    "\n",
    "text_splitter = RecursiveCharacterTextSplitter(\n",
    "    chunk_size=2000,\n",
    "    chunk_overlap=30,\n",
    "    add_start_index=True)\n",
    "\n",
    "all_splits = text_splitter.split_documents(docs)\n",
    "\n",
    "print(f\"Split the pdf into {len(all_splits)} sub-documents.\")"
   ]
  },
  {
   "cell_type": "code",
   "execution_count": 6,
   "id": "4774c8e0",
   "metadata": {},
   "outputs": [],
   "source": [
    "\n",
    "\n",
    "# embedding model\n",
    "embed_model = OpenAIEmbeddings(model=\"text-embedding-3-large\")\n",
    "\n",
    "# vector storage\n",
    "vector_store = InMemoryVectorStore(embedding=embed_model)\n",
    "\n",
    "# add document chunks to the vector store to get index chunks\n",
    "document_ids = vector_store.add_documents(documents=all_splits)"
   ]
  },
  {
   "cell_type": "code",
   "execution_count": null,
   "id": "b7a1969e",
   "metadata": {},
   "outputs": [
    {
     "data": {
      "image/png": "[encoded data removed]",
      "text/plain": [
       "<IPython.core.display.Image object>"
      ]
     },
     "execution_count": 25,
     "metadata": {},
     "output_type": "execute_result"
    }
   ],
   "source": [
    "\n",
    "\n",
    "prompt = ChatPromptTemplate.from_template(\"\"\"\n",
    "প্রশ্নটি খুব সংক্ষেপে (এক বা দুই শব্দে) উত্তর দাও।\n",
    "শুধু তথ্যটি দাও, ব্যাখ্যা বা অনুচ্ছেদ দিও না।\n",
    "Context (পাঠ্য):\n",
    "{context}\n",
    "\n",
    "প্রশ্ন:\n",
    "{question}\n",
    "\n",
    "উত্তর:\n",
    "\"\"\")\n",
    "\n",
    "class State(TypedDict):\n",
    "    question: str\n",
    "    context: List[Document]\n",
    "    answer: str\n",
    "\n",
    "def retrieve(state: State):\n",
    "    # print(\"Retrieving Information\")\n",
    "    question = state['question']\n",
    "    retrieved_docs = vector_store.similarity_search(query=question,k=4)\n",
    "    return {'context': retrieved_docs}\n",
    "\n",
    "def generate(state: State):\n",
    "    # print(\"Generating Response\")\n",
    "    docs_contents =  \"\\n\\n\".join([doc.page_content for doc in state[\"context\"]])\n",
    "    messages = prompt.invoke({'question': state['question'], 'context': state['context']})\n",
    "    response = llm.invoke(messages)\n",
    "    return {'answer': response}\n",
    "        \n",
    "builder = StateGraph(State)\n",
    "\n",
    "builder.add_node(\"retrieve\", retrieve)\n",
    "builder.add_node(\"generate\", generate)\n",
    "\n",
    "builder.add_edge(START, \"retrieve\")\n",
    "builder.add_edge(\"retrieve\", \"generate\")\n",
    "builder.add_edge(\"generate\", END)\n",
    "memory = MemorySaver()\n",
    "graph = builder.compile(checkpointer=memory)\n",
    "\n",
    "Image(graph.get_graph().draw_mermaid_png())"
   ]
  },
  {
   "cell_type": "code",
   "execution_count": 26,
   "id": "5c93a41b",
   "metadata": {},
   "outputs": [
    {
     "name": "stdout",
     "output_type": "stream",
     "text": [
      "১৪ বছর\n"
     ]
    }
   ],
   "source": [
    "config = {\"configurable\": {\"user_id\": \"1\", \"thread_id\": \"1\"}}\n",
    "\n",
    "# valiable to store the last answer\n",
    "last_answer = \"\"\n",
    "\n",
    "# Stream through the events\n",
    "async for chunk in graph.astream(\n",
    "    {'question': 'বিয়ের সময় কল্যাণীর প্রকৃত বয়স কত ছিল?'},\n",
    "    stream_mode=\"updates\",\n",
    "    config=config\n",
    "):\n",
    "    if chunk.get('generate', {}).get('answer', ''):\n",
    "        # Update the last_answer with the latest chunk\n",
    "        last_answer = chunk['generate']['answer'].content.strip()\n",
    "\n",
    "if last_answer:\n",
    "    print(last_answer)\n"
   ]
  },
  {
   "cell_type": "code",
   "execution_count": 27,
   "id": "5b827e2f",
   "metadata": {},
   "outputs": [
    {
     "name": "stdout",
     "output_type": "stream",
     "text": [
      "মামা\n"
     ]
    }
   ],
   "source": [
    "config = {\"configurable\": {\"user_id\": \"1\", \"thread_id\": \"1\"}}\n",
    "\n",
    "# valiable to store the last answer\n",
    "last_answer = \"\"\n",
    "\n",
    "# Stream through the events\n",
    "async for chunk in graph.astream(\n",
    "    {'question': 'কাকে অনুপমের ভাগ্য দেবতা বলে উল্লেখ করা হয়েছে?'},\n",
    "    stream_mode=\"updates\",\n",
    "    config=config\n",
    "):\n",
    "    if chunk.get('generate', {}).get('answer', ''):\n",
    "        # Update the last_answer with the latest chunk\n",
    "        last_answer = chunk['generate']['answer'].content.strip()\n",
    "\n",
    "if last_answer:\n",
    "    print(last_answer)\n"
   ]
  },
  {
   "cell_type": "code",
   "execution_count": 30,
   "id": "d954bbfc",
   "metadata": {},
   "outputs": [
    {
     "name": "stdout",
     "output_type": "stream",
     "text": [
      "বিনু\n"
     ]
    }
   ],
   "source": [
    "config = {\"configurable\": {\"user_id\": \"1\", \"thread_id\": \"1\"}}\n",
    "\n",
    "# valiable to store the last answer\n",
    "last_answer = \"\"\n",
    "\n",
    "# Stream through the events\n",
    "async for chunk in graph.astream(\n",
    "    {'question': 'অনুপমের ভাষায় সুপুরুষ কাকে বলা হয়েছে?'},\n",
    "    stream_mode=\"updates\",\n",
    "    config=config\n",
    "):\n",
    "    if chunk.get('generate', {}).get('answer', ''):\n",
    "        # Update the last_answer with the latest chunk\n",
    "        last_answer = chunk['generate']['answer'].content.strip()\n",
    "\n",
    "if last_answer:\n",
    "    print(last_answer)\n"
   ]
  }
 ],
 "metadata": {
  "kernelspec": {
   "display_name": "tamal",
   "language": "python",
   "name": "python3"
  },
  "language_info": {
   "codemirror_mode": {
    "name": "ipython",
    "version": 3
   },
   "file_extension": ".py",
   "mimetype": "text/x-python",
   "name": "python",
   "nbconvert_exporter": "python",
   "pygments_lexer": "ipython3",
   "version": "3.9.21"
  }
 },
 "nbformat": 4,
 "nbformat_minor": 5
}
